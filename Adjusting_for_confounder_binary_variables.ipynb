{
 "cells": [
  {
   "cell_type": "markdown",
   "id": "4656e2ea-4217-432f-93f4-3efda59a0047",
   "metadata": {},
   "source": [
    "### Introduction\n",
    "\n",
    "This script demonstrates the impact of confounding in causal inference and methods used to adjust for such confounding to derive a more accurate estimate of causal effects. Using the `DoWhy` library, we simulate data that features a binary treatment variable and an outcome influenced by a confounding variable. The script estimates the Average Treatment Effect (ATE) both with and without adjusting for the confounder, illustrating how ignoring confounders can lead to biased results. It further validates the reliability of the causal estimate through a refutation test."
   ]
  },
  {
   "cell_type": "code",
   "execution_count": 10,
   "id": "94361ef6-4688-4f76-ab80-6d801535fdfc",
   "metadata": {},
   "outputs": [
    {
     "name": "stdout",
     "output_type": "stream",
     "text": [
      "   Treatment    Outcome  Confounder\n",
      "0          0  -2.848533   -0.416758\n",
      "1          0  -1.559242   -0.056267\n",
      "2          0 -12.528960   -2.136196\n",
      "3          1   9.441820    1.640271\n",
      "4          0  -9.568476   -1.793436\n"
     ]
    }
   ],
   "source": [
    "import numpy as np\n",
    "import pandas as pd\n",
    "import dowhy\n",
    "from dowhy import CausalModel\n",
    "\n",
    "# Function to simulate data with binary treatment and confounding variable\n",
    "def simulate_data_with_confounding(sample_size=10000):\n",
    "    np.random.seed(2)\n",
    "    confounder = np.random.normal(0, 1, sample_size)  \n",
    "    treatment_prob = 1 / (1 + np.exp(-confounder)) # A logistic function (`treatment_prob = 1 / (1 + np.exp(-confounder))`) is used to convert the confounder into a probability of receiving treatment.\n",
    "    treatment = np.random.binomial(1, treatment_prob, size=sample_size) # treatment is binary \n",
    "    outcome = treatment + 5 * confounder + np.random.normal(0, 1, sample_size)\n",
    "    \n",
    "    data = pd.DataFrame({'Treatment': treatment, 'Outcome': outcome, 'Confounder': confounder})\n",
    "    return data\n",
    "\n",
    "# Simulate the data\n",
    "data = simulate_data_with_confounding()\n",
    "\n",
    "# Display the first few rows of the data\n",
    "print(data.head())"
   ]
  },
  {
   "cell_type": "code",
   "execution_count": 11,
   "id": "5118cbf2-c49f-48f2-96ae-cc32a328138a",
   "metadata": {},
   "outputs": [
    {
     "name": "stdout",
     "output_type": "stream",
     "text": [
      "Identified estimand (without considering confounder in model):  Estimand type: EstimandType.NONPARAMETRIC_ATE\n",
      "\n",
      "### Estimand : 1\n",
      "Estimand name: backdoor\n",
      "Estimand expression:\n",
      "     d                  \n",
      "────────────(E[Outcome])\n",
      "d[Treatment]            \n",
      "Estimand assumption 1, Unconfoundedness: If U→{Treatment} and U→Outcome then P(Outcome|Treatment,,U) = P(Outcome|Treatment,)\n",
      "\n",
      "### Estimand : 2\n",
      "Estimand name: iv\n",
      "No such variable(s) found!\n",
      "\n",
      "### Estimand : 3\n",
      "Estimand name: frontdoor\n",
      "No such variable(s) found!\n",
      "\n",
      "Estimated ATE without confounder:  5.0331774736038195\n"
     ]
    }
   ],
   "source": [
    "# Creating a causal model without controlling for the confounder\n",
    "model_without_confounder = CausalModel(\n",
    "    data=data,\n",
    "    treatment=\"Treatment\",\n",
    "    outcome=\"Outcome\"\n",
    ")\n",
    "\n",
    "# Identifying the effect without controlling for the confounder\n",
    "identified_estimand_without_confounder = model_without_confounder.identify_effect(proceed_when_unidentifiable=True)\n",
    "print(\"Identified estimand (without considering confounder in model): \", identified_estimand_without_confounder)\n",
    "\n",
    "# Estimating the effect without controlling for the confounder\n",
    "estimate_without_confounder = model_without_confounder.estimate_effect(\n",
    "    identified_estimand_without_confounder,\n",
    "    method_name=\"backdoor.linear_regression\" # linear regression based approach applied to the given model, i.e. without considering the confounder. \n",
    ")\n",
    "print(\"Estimated ATE without confounder: \", estimate_without_confounder.value) # The ATE should be (> 1), i.e. biased, due to the confounder!"
   ]
  },
  {
   "cell_type": "code",
   "execution_count": 12,
   "id": "8e0c6566-466e-4aa2-9149-fc6cf3ca4744",
   "metadata": {},
   "outputs": [
    {
     "name": "stdout",
     "output_type": "stream",
     "text": [
      "Identified estimand (with considering confounder):  Estimand type: EstimandType.NONPARAMETRIC_ATE\n",
      "\n",
      "### Estimand : 1\n",
      "Estimand name: backdoor\n",
      "Estimand expression:\n",
      "     d                             \n",
      "────────────(E[Outcome|Confounder])\n",
      "d[Treatment]                       \n",
      "Estimand assumption 1, Unconfoundedness: If U→{Treatment} and U→Outcome then P(Outcome|Treatment,Confounder,U) = P(Outcome|Treatment,Confounder)\n",
      "\n",
      "### Estimand : 2\n",
      "Estimand name: iv\n",
      "No such variable(s) found!\n",
      "\n",
      "### Estimand : 3\n",
      "Estimand name: frontdoor\n",
      "No such variable(s) found!\n",
      "\n",
      "Estimated ATE with confounder:  1.0332999920426305\n"
     ]
    }
   ],
   "source": [
    "# Creating a causal model controlling for the confounder\n",
    "model_with_confounder = CausalModel(\n",
    "    data=data,\n",
    "    treatment=\"Treatment\",\n",
    "    outcome=\"Outcome\",\n",
    "    common_causes=[\"Confounder\"]\n",
    ")\n",
    "\n",
    "# Identifying the effect with confounder control\n",
    "identified_estimand_with_confounder = model_with_confounder.identify_effect(proceed_when_unidentifiable=True)\n",
    "print(\"Identified estimand (with considering confounder): \", identified_estimand_with_confounder)\n",
    "\n",
    "# Estimating the effect controlling for the confounder\n",
    "estimate_with_confounder = model_with_confounder.estimate_effect(\n",
    "    identified_estimand_with_confounder,\n",
    "    method_name=\"backdoor.propensity_score_matching\" #\"backdoor.linear_regression\" \n",
    ")\n",
    "\n",
    "print(\"Estimated ATE with confounder: \", estimate_with_confounder.value) # "
   ]
  },
  {
   "cell_type": "markdown",
   "id": "fe82857d-bdbc-46dd-b624-d1742de05250",
   "metadata": {},
   "source": [
    "**Note: different methods can be considered to control for confounders, e.g.:**\n",
    "- [backdoor.linear_regression](https://www.pywhy.org/dowhy/v0.10/user_guide/causal_tasks/estimating_causal_effects/effect_estimation_with_backdoor/regression_based_methods.html)\n",
    "- [backdoor.propensity_score_matching](https://www.pywhy.org/dowhy/v0.10/user_guide/causal_tasks/estimating_causal_effects/effect_estimation_with_backdoor/propensity_based_methods.html)"
   ]
  },
  {
   "cell_type": "code",
   "execution_count": 13,
   "id": "2c565187-22a0-4771-9957-1f04ff8d14f9",
   "metadata": {},
   "outputs": [
    {
     "name": "stdout",
     "output_type": "stream",
     "text": [
      "Refutation result:  Refute: Use a Placebo Treatment\n",
      "Estimated effect:1.0332999920426305\n",
      "New effect:0.003643336685162588\n",
      "p value:0.74\n",
      "\n"
     ]
    }
   ],
   "source": [
    "# Refuting the estimate using a placebo treatment\n",
    "print(\"Refutation result: \", model.refute_estimate(identified_estimand, estimate, method_name=\"placebo_treatment_refuter\"))"
   ]
  },
  {
   "cell_type": "markdown",
   "id": "fbc0e9ad-00a9-4f7c-bf95-6ee22b4ee52d",
   "metadata": {},
   "source": [
    "### Refutation Step Explanation:\n",
    "\n",
    "1. **Estimated Effect**:\n",
    "   - This is the original estimated treatment effect calculated using the causal model including the true treatment variable. From the output, this value was approximately 1 when controlling for the confounder.\n",
    "\n",
    "2. **Placebo Treatment**:\n",
    "   - In the refutation step, `dowhy` introduces a placebo treatment variable which replaces the true treatment variable. The objective is to test if similar treatment effects would be detected using this placebo.\n",
    "   - By using a placebo, the model checks whether the same confounding mechanisms or random chance could falsely indicate a treatment effect, when in fact, none should logically exist.\n",
    "\n",
    "3. **New Effect**:\n",
    "   - The `New effect` is the estimated treatment effect calculated using the placebo treatment. Ideally, if the original model correctly captures the causal effect, this new effect should be close to zero, indicating no bogus treatment effect from the placebo.\n",
    "\n",
    "4. **p-value**:\n",
    "   - The p-value for the placebo effect tests the null hypothesis that the observed placebo effect (new effect) is different from zero due to random chance.\n",
    "   - A high p-value (typically greater than 0.05) implies that there's no statistical evidence against the null hypothesis, which indicates the placebo estimate is consistent with zero. In this output, the p-value is 0.74, leading to no significant evidence of a treatment effect from the placebo.\n",
    "   - Thus, a high p-value supports the reliability and robustness of the original causal effect estimate since no artificial effect is detected under placebo conditions, suggesting that the estimated effect when using the actual treatment is genuine.\n",
    "\n",
    "### Interpretation:\n",
    "\n",
    "- **Original Effect vs. Placebo Effect**: The original estimated effect (with the true treatment) was around 1., and the placebo effect was nearly zero with a high p-value, which strongly suggests that the actual treatment effect is real and not due to confounding artifacts or random noise.\n",
    "- **Robustness Verification**: The placebo test supports the causal model's findings by showing that the causal effect estimate is unlikely to have resulted from spurious processes. Therefore, the effectiveness of the true treatment is confirmed while guarding against potential misinterpretation due to hidden biases.\n",
    "\n",
    "Overall, the refutation step with a placebo treatment acts as a robustness check to provide confidence in the causal conclusions drawn from the model, ensuring that the treatment effect estimates are valid and not a consequence of random variation or unnoticed confounding variables."
   ]
  }
 ],
 "metadata": {
  "kernelspec": {
   "display_name": "Python 3 (ipykernel)",
   "language": "python",
   "name": "python3"
  },
  "language_info": {
   "codemirror_mode": {
    "name": "ipython",
    "version": 3
   },
   "file_extension": ".py",
   "mimetype": "text/x-python",
   "name": "python",
   "nbconvert_exporter": "python",
   "pygments_lexer": "ipython3",
   "version": "3.8.19"
  }
 },
 "nbformat": 4,
 "nbformat_minor": 5
}
