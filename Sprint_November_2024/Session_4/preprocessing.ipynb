{
 "cells": [
  {
   "cell_type": "code",
   "execution_count": null,
   "metadata": {},
   "outputs": [],
   "source": [
    "import pandas as pd\n",
    "\n",
    "# Load the data\n",
    "file_path = \"data/Extended_Employee_Performance_and_Productivity_Data.csv\"\n",
    "dfOrig = pd.read_csv(file_path)"
   ]
  },
  {
   "cell_type": "code",
   "execution_count": null,
   "metadata": {},
   "outputs": [
    {
     "name": "stdout",
     "output_type": "stream",
     "text": [
      "<class 'pandas.core.frame.DataFrame'>\n",
      "Index: 10000 entries, 51157 to 76264\n",
      "Data columns (total 20 columns):\n",
      " #   Column                       Non-Null Count  Dtype  \n",
      "---  ------                       --------------  -----  \n",
      " 0   Employee_ID                  10000 non-null  int64  \n",
      " 1   Department                   10000 non-null  object \n",
      " 2   Gender                       10000 non-null  object \n",
      " 3   Age                          10000 non-null  int64  \n",
      " 4   Job_Title                    10000 non-null  object \n",
      " 5   Hire_Date                    10000 non-null  object \n",
      " 6   Years_At_Company             10000 non-null  int64  \n",
      " 7   Education_Level              10000 non-null  object \n",
      " 8   Performance_Score            10000 non-null  int64  \n",
      " 9   Monthly_Salary               10000 non-null  float64\n",
      " 10  Work_Hours_Per_Week          10000 non-null  int64  \n",
      " 11  Projects_Handled             10000 non-null  int64  \n",
      " 12  Overtime_Hours               10000 non-null  int64  \n",
      " 13  Sick_Days                    10000 non-null  int64  \n",
      " 14  Remote_Work_Frequency        10000 non-null  int64  \n",
      " 15  Team_Size                    10000 non-null  int64  \n",
      " 16  Training_Hours               10000 non-null  int64  \n",
      " 17  Promotions                   10000 non-null  int64  \n",
      " 18  Employee_Satisfaction_Score  10000 non-null  float64\n",
      " 19  Resigned                     10000 non-null  bool   \n",
      "dtypes: bool(1), float64(2), int64(12), object(5)\n",
      "memory usage: 1.5+ MB\n"
     ]
    }
   ],
   "source": [
    "dfOrig = dfOrig.sample(n=10000)\n",
    "dfOrig.info()"
   ]
  },
  {
   "cell_type": "code",
   "execution_count": null,
   "metadata": {},
   "outputs": [
    {
     "name": "stdout",
     "output_type": "stream",
     "text": [
      "                        Feature     Score\n",
      "7                Monthly_Salary  1.510903\n",
      "10               Overtime_Hours  0.011751\n",
      "17                 Risigned_enc  0.007940\n",
      "8           Work_Hours_Per_Week  0.007521\n",
      "4                 Hire_Date_enc  0.006299\n",
      "12        Remote_Work_Frequency  0.002956\n",
      "13                    Team_Size  0.002468\n",
      "2                           Age  0.001877\n",
      "16  Employee_Satisfaction_Score  0.000000\n",
      "15                   Promotions  0.000000\n",
      "14               Training_Hours  0.000000\n",
      "0                Department_enc  0.000000\n",
      "11                    Sick_Days  0.000000\n",
      "1                    Gender_enc  0.000000\n",
      "6           Education_Level_enc  0.000000\n",
      "5              Years_At_Company  0.000000\n",
      "3                 Job_Title_enc  0.000000\n",
      "9              Projects_Handled  0.000000\n",
      "['Monthly_Salary', 'Overtime_Hours', 'Risigned_enc', 'Work_Hours_Per_Week', 'Hire_Date_enc', 'Remote_Work_Frequency', 'Team_Size', 'Age']\n"
     ]
    },
    {
     "data": {
      "text/plain": [
       "['Monthly_Salary',\n",
       " 'Overtime_Hours',\n",
       " 'Risigned_enc',\n",
       " 'Work_Hours_Per_Week',\n",
       " 'Hire_Date_enc',\n",
       " 'Remote_Work_Frequency',\n",
       " 'Team_Size',\n",
       " 'Age']"
      ]
     },
     "execution_count": 34,
     "metadata": {},
     "output_type": "execute_result"
    }
   ],
   "source": [
    "import pandas as pd\n",
    "from sklearn.feature_selection import SelectKBest, mutual_info_regression\n",
    "from sklearn.model_selection import train_test_split\n",
    "from sklearn.preprocessing import LabelEncoder\n",
    "# Feature encoding for categorical variables\n",
    "#from sklearn.preprocessing import LabelEncoder\n",
    "\n",
    "enc = LabelEncoder()\n",
    "dfOrig['Department_enc'] = enc.fit_transform(dfOrig['Department'])\n",
    "dfOrig['Gender_enc'] = enc.fit_transform(dfOrig['Gender'])\n",
    "dfOrig['Job_Title_enc'] = enc.fit_transform(dfOrig['Job_Title'])\n",
    "dfOrig['Hire_Date_enc'] = enc.fit_transform(dfOrig['Hire_Date'])\n",
    "dfOrig['Education_Level_enc'] = enc.fit_transform(dfOrig['Education_Level'])\n",
    "dfOrig['Risigned_enc'] = enc.fit_transform(dfOrig['Resigned'])\n",
    "\n",
    "\n",
    "# Separate features and target\n",
    "X = dfOrig[['Department_enc', 'Gender_enc', 'Age', 'Job_Title_enc', 'Hire_Date_enc', 'Years_At_Company', 'Education_Level_enc', 'Monthly_Salary', 'Work_Hours_Per_Week', 'Projects_Handled', 'Overtime_Hours', 'Sick_Days', 'Remote_Work_Frequency', 'Team_Size', 'Training_Hours', 'Promotions', 'Employee_Satisfaction_Score', 'Risigned_enc']]\n",
    "y = dfOrig['Performance_Score']\n",
    "\n",
    "# Using SelectKBest to select the top features based on mutual information\n",
    "selector = SelectKBest(score_func=mutual_info_regression, k='all')\n",
    "selector.fit(X, y)\n",
    "\n",
    "# Get the scores and the p-values (if available, p-values might not be available for certain metrics like mutual_info_regression)\n",
    "scores = selector.scores_\n",
    "\n",
    "# Create a DataFrame to view the scores\n",
    "feature_scores = pd.DataFrame({'Feature': X.columns, 'Score': scores})\n",
    "feature_scores = feature_scores.sort_values(by='Score', ascending=False)\n",
    "\n",
    "print(feature_scores)\n",
    "relevant_scores = []\n",
    "for item in feature_scores.iterrows():\n",
    "    if (item[1]['Score'] > 0.0):\n",
    "        relevant_scores.append(item[1]['Feature'])\n",
    "\n",
    "print(relevant_scores)\n",
    "relevant_scores"
   ]
  },
  {
   "cell_type": "code",
   "execution_count": null,
   "metadata": {},
   "outputs": [
    {
     "name": "stdout",
     "output_type": "stream",
     "text": [
      "Min salery: 3850.0\n",
      "Max salery: 9000.0\n",
      "Max salery: 6500.0\n"
     ]
    },
    {
     "data": {
      "text/plain": [
       "<Axes: title={'center': 'Monthly salery'}, ylabel='Frequency'>"
      ]
     },
     "execution_count": 35,
     "metadata": {},
     "output_type": "execute_result"
    },
    {
     "data": {
      "image/png": "[encoded data removed]",
      "text/plain": [
       "<Figure size 640x480 with 1 Axes>"
      ]
     },
     "metadata": {},
     "output_type": "display_data"
    }
   ],
   "source": [
    "print('Min salery:', dfOrig['Monthly_Salary'].min())\n",
    "print('Max salery:', dfOrig['Monthly_Salary'].max())\n",
    "print('Median salery:', dfOrig['Monthly_Salary'].median())\n",
    "\n",
    "dfOrig['Monthly_Salary'].plot(kind='hist', title='Monthly salery')\n",
    "#dfOrig['Performance_Score'].plot(kind='hist', title='Performance_Score')"
   ]
  },
  {
   "cell_type": "code",
   "execution_count": null,
   "metadata": {},
   "outputs": [
    {
     "name": "stdout",
     "output_type": "stream",
     "text": [
      "Amount of samples in treatment group:  4015\n",
      "Amount of samples in control group:  5985\n"
     ]
    }
   ],
   "source": [
    "relevant_all = relevant_scores.copy()\n",
    "relevant_all.append(\"Performance_Score\")\n",
    "\n",
    "df = dfOrig[relevant_all].copy() #dfOrig[['Performance_Score', 'Education_Level', 'Years_At_Company', 'Work_Hours_Per_Week', 'Age', 'Job_Title', 'Training_Hours']].copy()#[['Performance_Score', 'Education_Level']].copy()\n",
    "\n",
    "# Define high performance\n",
    "df['High_Performance'] = df['Performance_Score'].apply(lambda x: 1 if x >= 4 else 0)\n",
    "\n",
    "# Define treatment higher salery\n",
    "df['High_Salary'] = df['Monthly_Salary'].apply(lambda x: 1 if x >=  dfOrig['Monthly_Salary'].median() else 0)\n",
    "\n",
    "print(\"Amount of samples in treatment group: \", df[df['High_Performance']==1].shape[0])\n",
    "print(\"Amount of samples in control group: \", df[df['High_Performance']==0].shape[0])"
   ]
  },
  {
   "cell_type": "code",
   "execution_count": 17,
   "metadata": {},
   "outputs": [
    {
     "data": {
      "text/plain": [
       "Monthly_Salary           float64\n",
       "Projects_Handled           int64\n",
       "Sick_Days                  int64\n",
       "Team_Size                  int64\n",
       "Job_Title_enc              int32\n",
       "Remote_Work_Frequency      int64\n",
       "Hire_Date_enc              int32\n",
       "Education_Level_enc        int32\n",
       "Risigned_enc               int64\n",
       "Age                        int64\n",
       "Training_Hours             int64\n",
       "Work_Hours_Per_Week        int64\n",
       "Department_enc             int32\n",
       "Performance_Score          int64\n",
       "High_Performance           int64\n",
       "High_Salary                int64\n",
       "dtype: object"
      ]
     },
     "execution_count": 17,
     "metadata": {},
     "output_type": "execute_result"
    }
   ],
   "source": [
    "df.columns\n",
    "df.dtypes"
   ]
  },
  {
   "cell_type": "code",
   "execution_count": null,
   "metadata": {},
   "outputs": [
    {
     "name": "stdout",
     "output_type": "stream",
     "text": [
      "['Team_Size', 'Remote_Work_Frequency', 'Risigned_enc', 'Hire_Date_enc', 'Overtime_Hours', 'Age', 'Work_Hours_Per_Week']\n"
     ]
    }
   ],
   "source": [
    "relevant_scores\n",
    "covariates = list(set(relevant_scores) - set(['Monthly_Salary'])) # the treatment variable should not be included in the covariates for the propensity score estimation!\n",
    "print(covariates)"
   ]
  },
  {
   "cell_type": "code",
   "execution_count": null,
   "metadata": {},
   "outputs": [
    {
     "data": {
      "text/html": [
       "<style>#sk-container-id-2 {color: black;}#sk-container-id-2 pre{padding: 0;}#sk-container-id-2 div.sk-toggleable {background-color: white;}#sk-container-id-2 label.sk-toggleable__label {cursor: pointer;display: block;width: 100%;margin-bottom: 0;padding: 0.3em;box-sizing: border-box;text-align: center;}#sk-container-id-2 label.sk-toggleable__label-arrow:before {content: \"▸\";float: left;margin-right: 0.25em;color: #696969;}#sk-container-id-2 label.sk-toggleable__label-arrow:hover:before {color: black;}#sk-container-id-2 div.sk-estimator:hover label.sk-toggleable__label-arrow:before {color: black;}#sk-container-id-2 div.sk-toggleable__content {max-height: 0;max-width: 0;overflow: hidden;text-align: left;background-color: #f0f8ff;}#sk-container-id-2 div.sk-toggleable__content pre {margin: 0.2em;color: black;border-radius: 0.25em;background-color: #f0f8ff;}#sk-container-id-2 input.sk-toggleable__control:checked~div.sk-toggleable__content {max-height: 200px;max-width: 100%;overflow: auto;}#sk-container-id-2 input.sk-toggleable__control:checked~label.sk-toggleable__label-arrow:before {content: \"▾\";}#sk-container-id-2 div.sk-estimator input.sk-toggleable__control:checked~label.sk-toggleable__label {background-color: #d4ebff;}#sk-container-id-2 div.sk-label input.sk-toggleable__control:checked~label.sk-toggleable__label {background-color: #d4ebff;}#sk-container-id-2 input.sk-hidden--visually {border: 0;clip: rect(1px 1px 1px 1px);clip: rect(1px, 1px, 1px, 1px);height: 1px;margin: -1px;overflow: hidden;padding: 0;position: absolute;width: 1px;}#sk-container-id-2 div.sk-estimator {font-family: monospace;background-color: #f0f8ff;border: 1px dotted black;border-radius: 0.25em;box-sizing: border-box;margin-bottom: 0.5em;}#sk-container-id-2 div.sk-estimator:hover {background-color: #d4ebff;}#sk-container-id-2 div.sk-parallel-item::after {content: \"\";width: 100%;border-bottom: 1px solid gray;flex-grow: 1;}#sk-container-id-2 div.sk-label:hover label.sk-toggleable__label {background-color: #d4ebff;}#sk-container-id-2 div.sk-serial::before {content: \"\";position: absolute;border-left: 1px solid gray;box-sizing: border-box;top: 0;bottom: 0;left: 50%;z-index: 0;}#sk-container-id-2 div.sk-serial {display: flex;flex-direction: column;align-items: center;background-color: white;padding-right: 0.2em;padding-left: 0.2em;position: relative;}#sk-container-id-2 div.sk-item {position: relative;z-index: 1;}#sk-container-id-2 div.sk-parallel {display: flex;align-items: stretch;justify-content: center;background-color: white;position: relative;}#sk-container-id-2 div.sk-item::before, #sk-container-id-2 div.sk-parallel-item::before {content: \"\";position: absolute;border-left: 1px solid gray;box-sizing: border-box;top: 0;bottom: 0;left: 50%;z-index: -1;}#sk-container-id-2 div.sk-parallel-item {display: flex;flex-direction: column;z-index: 1;position: relative;background-color: white;}#sk-container-id-2 div.sk-parallel-item:first-child::after {align-self: flex-end;width: 50%;}#sk-container-id-2 div.sk-parallel-item:last-child::after {align-self: flex-start;width: 50%;}#sk-container-id-2 div.sk-parallel-item:only-child::after {width: 0;}#sk-container-id-2 div.sk-dashed-wrapped {border: 1px dashed gray;margin: 0 0.4em 0.5em 0.4em;box-sizing: border-box;padding-bottom: 0.4em;background-color: white;}#sk-container-id-2 div.sk-label label {font-family: monospace;font-weight: bold;display: inline-block;line-height: 1.2em;}#sk-container-id-2 div.sk-label-container {text-align: center;}#sk-container-id-2 div.sk-container {/* jupyter's `normalize.less` sets `[hidden] { display: none; }` but bootstrap.min.css set `[hidden] { display: none !important; }` so we also need the `!important` here to be able to override the default hidden behavior on the sphinx rendered scikit-learn.org. See: https://github.com/scikit-learn/scikit-learn/issues/21755 */display: inline-block !important;position: relative;}#sk-container-id-2 div.sk-text-repr-fallback {display: none;}</style><div id=\"sk-container-id-2\" class=\"sk-top-container\"><div class=\"sk-text-repr-fallback\"><pre>Pipeline(steps=[(&#x27;standardscaler&#x27;, StandardScaler()),\n",
       "                (&#x27;logisticregression&#x27;, LogisticRegression(max_iter=1000))])</pre><b>In a Jupyter environment, please rerun this cell to show the HTML representation or trust the notebook. <br />On GitHub, the HTML representation is unable to render, please try loading this page with nbviewer.org.</b></div><div class=\"sk-container\" hidden><div class=\"sk-item sk-dashed-wrapped\"><div class=\"sk-label-container\"><div class=\"sk-label sk-toggleable\"><input class=\"sk-toggleable__control sk-hidden--visually\" id=\"sk-estimator-id-4\" type=\"checkbox\" ><label for=\"sk-estimator-id-4\" class=\"sk-toggleable__label sk-toggleable__label-arrow\">Pipeline</label><div class=\"sk-toggleable__content\"><pre>Pipeline(steps=[(&#x27;standardscaler&#x27;, StandardScaler()),\n",
       "                (&#x27;logisticregression&#x27;, LogisticRegression(max_iter=1000))])</pre></div></div></div><div class=\"sk-serial\"><div class=\"sk-item\"><div class=\"sk-estimator sk-toggleable\"><input class=\"sk-toggleable__control sk-hidden--visually\" id=\"sk-estimator-id-5\" type=\"checkbox\" ><label for=\"sk-estimator-id-5\" class=\"sk-toggleable__label sk-toggleable__label-arrow\">StandardScaler</label><div class=\"sk-toggleable__content\"><pre>StandardScaler()</pre></div></div></div><div class=\"sk-item\"><div class=\"sk-estimator sk-toggleable\"><input class=\"sk-toggleable__control sk-hidden--visually\" id=\"sk-estimator-id-6\" type=\"checkbox\" ><label for=\"sk-estimator-id-6\" class=\"sk-toggleable__label sk-toggleable__label-arrow\">LogisticRegression</label><div class=\"sk-toggleable__content\"><pre>LogisticRegression(max_iter=1000)</pre></div></div></div></div></div></div></div>"
      ],
      "text/plain": [
       "Pipeline(steps=[('standardscaler', StandardScaler()),\n",
       "                ('logisticregression', LogisticRegression(max_iter=1000))])"
      ]
     },
     "execution_count": 39,
     "metadata": {},
     "output_type": "execute_result"
    }
   ],
   "source": [
    "# Propensity score matching to obtain quasi-RCT\n",
    "from sklearn.linear_model import LogisticRegression\n",
    "from sklearn.preprocessing import StandardScaler\n",
    "from sklearn.pipeline import make_pipeline\n",
    "\n",
    "features = df[covariates] #df[['Job_Title_enc', 'Years_At_Company', 'Age', 'Department_enc']]\n",
    "treatment = df['High_Salary']\n",
    "\n",
    "# Use scaled features and logistic regression for propensity score prediction!\n",
    "model = make_pipeline(StandardScaler(), LogisticRegression(max_iter=1000, solver='lbfgs'))\n",
    "\n",
    "# Fit the model\n",
    "model.fit(features, treatment)"
   ]
  },
  {
   "cell_type": "code",
   "execution_count": 40,
   "metadata": {},
   "outputs": [],
   "source": [
    "df['propensity_score'] = model.predict_proba(features)[:, 1]\n",
    "\n",
    "control = df[df['High_Salary'] == 0].sort_values('propensity_score')\n",
    "treated = df[df['High_Salary'] == 1].sort_values('propensity_score')"
   ]
  },
  {
   "cell_type": "code",
   "execution_count": 41,
   "metadata": {},
   "outputs": [
    {
     "name": "stdout",
     "output_type": "stream",
     "text": [
      "7776     0.489905\n",
      "48003    0.490392\n",
      "17282    0.492838\n",
      "84244    0.493171\n",
      "92531    0.493225\n",
      "           ...   \n",
      "43401    0.542138\n",
      "11625    0.542310\n",
      "68865    0.542746\n",
      "42543    0.542819\n",
      "39300    0.545451\n",
      "Name: propensity_score, Length: 4814, dtype: float64\n",
      "(5186, 12)\n"
     ]
    }
   ],
   "source": [
    "print(control['propensity_score'])\n",
    "print(treated.shape)"
   ]
  },
  {
   "cell_type": "code",
   "execution_count": null,
   "metadata": {},
   "outputs": [],
   "source": [
    "import pandas as pd\n",
    "\n",
    "# A small method to perform matching fast, i.e. in complexity O(N + M)\n",
    "def perform_matching(treated_df, control_df, tolerance=0.01):\n",
    "    # NOTE: Assumes treated_df and control_df to be sorted in ascending order with respect to the column \"propensity_score\"\n",
    "    treated_matched_indices = []  # To store indices of matched treated samples\n",
    "    control_matched_indices = []  # To store indices of matched control samples\n",
    "    \n",
    "    i, j = 0, 0  # Initialize pointers\n",
    "    \n",
    "    # Extract the propensity scores assuming they are in a column named 'propensity_score'\n",
    "    treated_scores = treated_df['propensity_score'].values\n",
    "    control_scores = control_df['propensity_score'].values\n",
    "    \n",
    "    while i < len(treated_scores) and j < len(control_scores):\n",
    "        if abs(treated_scores[i] - control_scores[j]) <= tolerance:\n",
    "            # If within tolerance, consider it a match\n",
    "            treated_matched_indices.append(i)\n",
    "            control_matched_indices.append(j)\n",
    "            # Move both pointers to find next match\n",
    "            i += 1\n",
    "            j += 1\n",
    "        elif treated_scores[i] < control_scores[j]:\n",
    "            # Increment i to get closer to j\n",
    "            i += 1\n",
    "        else:\n",
    "            # Increment j to get closer to i\n",
    "            j += 1\n",
    "    \n",
    "    # Create new dataframes for matched samples\n",
    "    treated_matched = treated_df.iloc[treated_matched_indices]\n",
    "    control_matched = control_df.iloc[control_matched_indices]\n",
    "    \n",
    "    return treated_matched, control_matched\n",
    "\n",
    "# Assume treated and control are your dataframes\n",
    "treated_matched, control_matched = perform_matching(treated, control)"
   ]
  },
  {
   "cell_type": "code",
   "execution_count": null,
   "metadata": {},
   "outputs": [
    {
     "name": "stdout",
     "output_type": "stream",
     "text": [
      "Amount of samples in treatment group:  4814\n",
      "Amount of samples in control group:  4814\n",
      "The average of higher performance in the treatment group is:  0.5002077274615704\n",
      "The average of higher performance in the control group is:  0.2891566265060241\n",
      "The average treatment effect is:  0.2110511009555463\n"
     ]
    },
    {
     "data": {
      "image/png": "[encoded data removed]",
      "text/plain": [
       "<Figure size 640x480 with 1 Axes>"
      ]
     },
     "metadata": {},
     "output_type": "display_data"
    }
   ],
   "source": [
    "print(\"Amount of samples in treatment group: \", treated_matched.shape[0])\n",
    "print(\"Amount of samples in control group: \", control_matched.shape[0])\n",
    "\n",
    "# Save matched data to csv for quasi RCT study -> see RCT_study.ipynb\n",
    "treated_matched.to_csv('treated_machted.csv', index=False)\n",
    "control_matched.to_csv('control_matched.csv', index=False)\n",
    "\n",
    "# Compute average treatment effect (ATE)\n",
    "Y_1 = treated_matched['High_Performance'].apply(lambda x: 1 if x >= 1 else 0).mean()\n",
    "print(\"The average of higher performance in the treatment group is: \", Y_1)\n",
    "Y_0 = control_matched['High_Performance'].apply(lambda x: 1 if x >= 1 else 0).mean()\n",
    "print(\"The average of higher performance in the control group is: \", Y_0)\n",
    "\n",
    "print(\"The average treatment effect is: \", Y_1 - Y_0)"
   ]
  },
  {
   "cell_type": "code",
   "execution_count": 57,
   "metadata": {},
   "outputs": [
    {
     "data": {
      "text/plain": [
       "<Axes: title={'center': 'Performance_Score - treated'}, ylabel='Frequency'>"
      ]
     },
     "execution_count": 57,
     "metadata": {},
     "output_type": "execute_result"
    },
    {
     "data": {
      "image/png": "[encoded data removed]",
      "text/plain": [
       "<Figure size 640x480 with 1 Axes>"
      ]
     },
     "metadata": {},
     "output_type": "display_data"
    }
   ],
   "source": [
    "treated_matched['Performance_Score'].plot(kind='hist', title='Performance_Score - treated')"
   ]
  },
  {
   "cell_type": "code",
   "execution_count": 58,
   "metadata": {},
   "outputs": [
    {
     "data": {
      "text/plain": [
       "<Axes: title={'center': 'Performance_Score - control'}, ylabel='Frequency'>"
      ]
     },
     "execution_count": 58,
     "metadata": {},
     "output_type": "execute_result"
    },
    {
     "data": {
      "image/png": "[encoded data removed]",
      "text/plain": [
       "<Figure size 640x480 with 1 Axes>"
      ]
     },
     "metadata": {},
     "output_type": "display_data"
    }
   ],
   "source": [
    "control_matched['Performance_Score'].plot(kind='hist', title='Performance_Score - control')"
   ]
  }
 ],
 "metadata": {
  "kernelspec": {
   "display_name": "Python 3",
   "language": "python",
   "name": "python3"
  },
  "language_info": {
   "codemirror_mode": {
    "name": "ipython",
    "version": 3
   },
   "file_extension": ".py",
   "mimetype": "text/x-python",
   "name": "python",
   "nbconvert_exporter": "python",
   "pygments_lexer": "ipython3",
   "version": "3.8.19"
  }
 },
 "nbformat": 4,
 "nbformat_minor": 2
}
