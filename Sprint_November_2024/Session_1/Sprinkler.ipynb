{
 "cells": [
  {
   "cell_type": "markdown",
   "metadata": {
    "id": "uYCyEcvDyvaG"
   },
   "source": [
    "# Inference in Bayesian Networks\n",
    "\n",
    "This notebook illustrates the Bayesian Network for the \"Wet Grass\" example discussed in the course book \"Inference & Causality\", unit 1.2, based\n",
    "on: Murphy, K.  (2001).  An introduction to graphical models.Rap. tech,96,1–19"
   ]
  },
  {
   "cell_type": "code",
   "execution_count": 14,
   "metadata": {
    "colab": {
     "base_uri": "https://localhost:8080/"
    },
    "executionInfo": {
     "elapsed": 9618,
     "status": "ok",
     "timestamp": 1611834585233,
     "user": {
      "displayName": "Ulrich Kerzel",
      "photoUrl": "https://lh3.googleusercontent.com/a-/AOh14GgUe7aETi8_2hp0GY6lXuHo8CbZgw1Wjq6SJtE-ow=s64",
      "userId": "10582137377195463323"
     },
     "user_tz": -60
    },
    "id": "8D7_xzjnyvaI",
    "outputId": "09460824-4c8c-47f6-ec77-24ec6b5cd4ef"
   },
   "outputs": [],
   "source": [
    "%%capture\n",
    "!pip install pgmpy\n",
    "\n",
    "from pgmpy.models import BayesianNetwork\n",
    "from pgmpy.factors.discrete import TabularCPD\n",
    "import networkx as nx\n",
    "import pylab as plt"
   ]
  },
  {
   "cell_type": "markdown",
   "metadata": {
    "id": "eS15uTMlzcKT"
   },
   "source": [
    "First we define the Bayesian network by specifying which nodes are connected to which.\n",
    "The following shortcuts are used:\n",
    "* C: Cloudy\n",
    "* S: Sprinkler\n",
    "* R: Rain\n",
    "* W: Wet grass\n",
    "\n",
    "We use the module ```networkx``` do visualize the network. The output is perhaps a bit counter-intuitive - but careful investigation shows that the arrows point indeed into the correct nodes:\n",
    "\n",
    "* *Cloudy* is a common cause to both *Sprinkler* and *Rain*\n",
    "* *Sprinkler* is a cause to *Wet grass*\n",
    "* *Rain* is a cause to *Wet grass*."
   ]
  },
  {
   "cell_type": "code",
   "execution_count": 15,
   "metadata": {
    "colab": {
     "base_uri": "https://localhost:8080/",
     "height": 319
    },
    "executionInfo": {
     "elapsed": 748,
     "status": "ok",
     "timestamp": 1611834661134,
     "user": {
      "displayName": "Ulrich Kerzel",
      "photoUrl": "https://lh3.googleusercontent.com/a-/AOh14GgUe7aETi8_2hp0GY6lXuHo8CbZgw1Wjq6SJtE-ow=s64",
      "userId": "10582137377195463323"
     },
     "user_tz": -60
    },
    "id": "8r5E1lCGyvaM",
    "outputId": "5a3fd0bf-b9cc-4351-b945-856343200b2a"
   },
   "outputs": [
    {
     "data": {
      "image/png": "[encoded data removed]",
      "text/plain": [
       "<Figure size 640x480 with 1 Axes>"
      ]
     },
     "metadata": {},
     "output_type": "display_data"
    }
   ],
   "source": [
    "#define model\n",
    "model = BayesianNetwork([('C','S'),('C','R'),('R','W'),('S','W')])\n",
    "#model = BayesianNetwork([('Cloudy','Sprinkler'),('Cloudy','Rain'),('Rain','Wet grass'),('Sprinkler','Wet grass')])\n",
    "pos = nx.planar_layout(model)\n",
    "nx.draw(model, pos=pos, with_labels=True) \n",
    "plt.show()"
   ]
  },
  {
   "cell_type": "code",
   "execution_count": 16,
   "metadata": {},
   "outputs": [
    {
     "data": {
      "text/plain": [
       "(C ⟂ W | R, S)\n",
       "(R ⟂ S | C)\n",
       "(W ⟂ C | R, S)\n",
       "(S ⟂ R | C)"
      ]
     },
     "execution_count": 16,
     "metadata": {},
     "output_type": "execute_result"
    }
   ],
   "source": [
    "# independence conditions\n",
    "model.get_independencies()"
   ]
  },
  {
   "cell_type": "markdown",
   "metadata": {
    "id": "Ho61X-iE0fET"
   },
   "source": [
    "Next, we define the conditional probability tables for all nodes, in this case: C,S,R,W\n",
    "\n",
    "We then add them to the Bayesian network and cross-check that the netowrk is well defined."
   ]
  },
  {
   "cell_type": "code",
   "execution_count": 17,
   "metadata": {
    "colab": {
     "base_uri": "https://localhost:8080/"
    },
    "executionInfo": {
     "elapsed": 858,
     "status": "ok",
     "timestamp": 1611834676467,
     "user": {
      "displayName": "Ulrich Kerzel",
      "photoUrl": "https://lh3.googleusercontent.com/a-/AOh14GgUe7aETi8_2hp0GY6lXuHo8CbZgw1Wjq6SJtE-ow=s64",
      "userId": "10582137377195463323"
     },
     "user_tz": -60
    },
    "id": "6W0wgisEyvaS",
    "outputId": "2a247281-010d-4bd6-8a6f-4efd25313917"
   },
   "outputs": [
    {
     "data": {
      "text/plain": [
       "True"
      ]
     },
     "execution_count": 17,
     "metadata": {},
     "output_type": "execute_result"
    }
   ],
   "source": [
    "#define CPT\n",
    "\n",
    "#cloudy\n",
    "CPT_C = TabularCPD(variable='C', variable_card=2, \n",
    "                   values=[[0.5], [0.5]])\n",
    "\n",
    "#sprinkler\n",
    "CPT_S = TabularCPD(variable='S', variable_card=2,\n",
    "                   values=[ [0.5, 0.9],\n",
    "                            [0.5, 0.1]\n",
    "                          ],\n",
    "                   evidence=['C'], evidence_card=[2]\n",
    "                  )\n",
    "\n",
    "#rain\n",
    "CPT_R = TabularCPD(variable='R', variable_card=2,\n",
    "                   values=[ [0.8, 0.2],\n",
    "                            [0.2, 0.8]\n",
    "                          ],\n",
    "                   evidence=['C'], evidence_card=[2]\n",
    "                  )\n",
    "\n",
    "# wet grass\n",
    "CPT_W = TabularCPD(variable='W', variable_card=2,\n",
    "                   values=[ [1.0, 0.1, 0.1, 0.001],\n",
    "                            [0.0, 0.9, 0.9, 0.99]\n",
    "                          ],\n",
    "                   evidence=['S','R'], evidence_card=[2,2]\n",
    "                  )\n",
    "model.add_cpds(CPT_C, CPT_S, CPT_R, CPT_W)\n",
    "model.check_model()"
   ]
  },
  {
   "cell_type": "code",
   "execution_count": 18,
   "metadata": {},
   "outputs": [
    {
     "name": "stdout",
     "output_type": "stream",
     "text": [
      "2\n"
     ]
    }
   ],
   "source": [
    "cardinality_C = model.get_cardinality('C')\n",
    "print(cardinality_C)"
   ]
  },
  {
   "cell_type": "markdown",
   "metadata": {
    "id": "Q4QIQeXO02BA"
   },
   "source": [
    "Once the Bayesian network is fully defined we can use it for inference.\n",
    "\n",
    "In the example below, we wish to estimate the probability for rain (R) given that we observe that the grass is wet (W=1).\n",
    "You can experiment with different observations."
   ]
  },
  {
   "cell_type": "code",
   "execution_count": 21,
   "metadata": {
    "colab": {
     "base_uri": "https://localhost:8080/"
    },
    "executionInfo": {
     "elapsed": 693,
     "status": "ok",
     "timestamp": 1611834713348,
     "user": {
      "displayName": "Ulrich Kerzel",
      "photoUrl": "https://lh3.googleusercontent.com/a-/AOh14GgUe7aETi8_2hp0GY6lXuHo8CbZgw1Wjq6SJtE-ow=s64",
      "userId": "10582137377195463323"
     },
     "user_tz": -60
    },
    "id": "HTeS6XwEyvaV",
    "outputId": "d757422b-0004-4540-e866-3db0bc59fe13"
   },
   "outputs": [
    {
     "name": "stdout",
     "output_type": "stream",
     "text": [
      "+------+----------+\n",
      "| R    |   phi(R) |\n",
      "+======+==========+\n",
      "| R(0) |   0.2921 |\n",
      "+------+----------+\n",
      "| R(1) |   0.7079 |\n",
      "+------+----------+\n"
     ]
    }
   ],
   "source": [
    "# Infering the posterior probability \n",
    "from pgmpy.inference import VariableElimination\n",
    "\n",
    "infer = VariableElimination(model)\n",
    "posterior_p = infer.query(variables=['R'], evidence={'W': 1})\n",
    "#posterior_p = infer.query(variables=['R'], evidence={'W': 1, 'S': 0})\n",
    "print(posterior_p)"
   ]
  },
  {
   "cell_type": "code",
   "execution_count": null,
   "metadata": {},
   "outputs": [],
   "source": []
  }
 ],
 "metadata": {
  "colab": {
   "collapsed_sections": [],
   "name": "Sprinkler.ipynb",
   "provenance": []
  },
  "kernelspec": {
   "display_name": "Python 3 (ipykernel)",
   "language": "python",
   "name": "python3"
  },
  "language_info": {
   "codemirror_mode": {
    "name": "ipython",
    "version": 3
   },
   "file_extension": ".py",
   "mimetype": "text/x-python",
   "name": "python",
   "nbconvert_exporter": "python",
   "pygments_lexer": "ipython3",
   "version": "3.12.7"
  }
 },
 "nbformat": 4,
 "nbformat_minor": 4
}
